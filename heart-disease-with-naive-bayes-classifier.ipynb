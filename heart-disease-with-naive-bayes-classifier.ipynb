{
 "cells": [
  {
   "cell_type": "code",
   "execution_count": 1,
   "id": "ae5cf60d",
   "metadata": {
    "_cell_guid": "b1076dfc-b9ad-4769-8c92-a6c4dae69d19",
    "_uuid": "8f2839f25d086af736a60e9eeb907d3b93b6e0e5",
    "execution": {
     "iopub.execute_input": "2023-08-14T12:20:40.554448Z",
     "iopub.status.busy": "2023-08-14T12:20:40.554080Z",
     "iopub.status.idle": "2023-08-14T12:20:40.574344Z",
     "shell.execute_reply": "2023-08-14T12:20:40.573565Z"
    },
    "papermill": {
     "duration": 0.030302,
     "end_time": "2023-08-14T12:20:40.576457",
     "exception": false,
     "start_time": "2023-08-14T12:20:40.546155",
     "status": "completed"
    },
    "tags": []
   },
   "outputs": [
    {
     "name": "stdout",
     "output_type": "stream",
     "text": [
      "/kaggle/input/heart-disease-data/heart_disease_uci.csv\n"
     ]
    }
   ],
   "source": [
    "# This Python 3 environment comes with many helpful analytics libraries installed\n",
    "# It is defined by the kaggle/python Docker image: https://github.com/kaggle/docker-python\n",
    "# For example, here's several helpful packages to load\n",
    "\n",
    "import numpy as np # linear algebra\n",
    "import pandas as pd # data processing, CSV file I/O (e.g. pd.read_csv)\n",
    "\n",
    "# Input data files are available in the read-only \"../input/\" directory\n",
    "# For example, running this (by clicking run or pressing Shift+Enter) will list all files under the input directory\n",
    "\n",
    "import os\n",
    "load_path = []\n",
    "for dirname, _, filenames in os.walk('/kaggle/input'):\n",
    "    for filename in filenames:\n",
    "        print(os.path.join(dirname, filename))\n",
    "        load_path.append(os.path.join(dirname, filename))\n",
    "\n",
    "# You can write up to 20GB to the current directory (/kaggle/working/) that gets preserved as output when you create a version using \"Save & Run All\" \n",
    "# You can also write temporary files to /kaggle/temp/, but they won't be saved outside of the current session"
   ]
  },
  {
   "cell_type": "markdown",
   "id": "b69c5752",
   "metadata": {
    "papermill": {
     "duration": 0.005747,
     "end_time": "2023-08-14T12:20:40.588697",
     "exception": false,
     "start_time": "2023-08-14T12:20:40.582950",
     "status": "completed"
    },
    "tags": []
   },
   "source": [
    "Loading csv to DataFrame"
   ]
  },
  {
   "cell_type": "code",
   "execution_count": 2,
   "id": "451b6bc2",
   "metadata": {
    "execution": {
     "iopub.execute_input": "2023-08-14T12:20:40.602352Z",
     "iopub.status.busy": "2023-08-14T12:20:40.602002Z",
     "iopub.status.idle": "2023-08-14T12:20:40.632296Z",
     "shell.execute_reply": "2023-08-14T12:20:40.631509Z"
    },
    "papermill": {
     "duration": 0.039934,
     "end_time": "2023-08-14T12:20:40.634486",
     "exception": false,
     "start_time": "2023-08-14T12:20:40.594552",
     "status": "completed"
    },
    "tags": []
   },
   "outputs": [],
   "source": [
    "data = pd.read_csv(load_path[0])"
   ]
  },
  {
   "cell_type": "markdown",
   "id": "2a07636e",
   "metadata": {
    "papermill": {
     "duration": 0.005626,
     "end_time": "2023-08-14T12:20:40.645948",
     "exception": false,
     "start_time": "2023-08-14T12:20:40.640322",
     "status": "completed"
    },
    "tags": []
   },
   "source": [
    "DataFrame overwiev"
   ]
  },
  {
   "cell_type": "code",
   "execution_count": 3,
   "id": "72294ace",
   "metadata": {
    "execution": {
     "iopub.execute_input": "2023-08-14T12:20:40.660221Z",
     "iopub.status.busy": "2023-08-14T12:20:40.659573Z",
     "iopub.status.idle": "2023-08-14T12:20:40.730408Z",
     "shell.execute_reply": "2023-08-14T12:20:40.729356Z"
    },
    "papermill": {
     "duration": 0.080724,
     "end_time": "2023-08-14T12:20:40.732695",
     "exception": false,
     "start_time": "2023-08-14T12:20:40.651971",
     "status": "completed"
    },
    "tags": []
   },
   "outputs": [
    {
     "name": "stdout",
     "output_type": "stream",
     "text": [
      "   id  age     sex    dataset               cp  trestbps   chol    fbs  \\\n",
      "0   1   63    Male  Cleveland   typical angina     145.0  233.0   True   \n",
      "1   2   67    Male  Cleveland     asymptomatic     160.0  286.0  False   \n",
      "2   3   67    Male  Cleveland     asymptomatic     120.0  229.0  False   \n",
      "3   4   37    Male  Cleveland      non-anginal     130.0  250.0  False   \n",
      "4   5   41  Female  Cleveland  atypical angina     130.0  204.0  False   \n",
      "\n",
      "          restecg  thalch  exang  oldpeak        slope   ca  \\\n",
      "0  lv hypertrophy   150.0  False      2.3  downsloping  0.0   \n",
      "1  lv hypertrophy   108.0   True      1.5         flat  3.0   \n",
      "2  lv hypertrophy   129.0   True      2.6         flat  2.0   \n",
      "3          normal   187.0  False      3.5  downsloping  0.0   \n",
      "4  lv hypertrophy   172.0  False      1.4    upsloping  0.0   \n",
      "\n",
      "                thal  num  \n",
      "0       fixed defect    0  \n",
      "1             normal    2  \n",
      "2  reversable defect    1  \n",
      "3             normal    0  \n",
      "4             normal    0   \n",
      "                 id         age   sex    dataset            cp    trestbps  \\\n",
      "count   920.000000  920.000000   920        920           920  861.000000   \n",
      "unique         NaN         NaN     2          4             4         NaN   \n",
      "top            NaN         NaN  Male  Cleveland  asymptomatic         NaN   \n",
      "freq           NaN         NaN   726        304           496         NaN   \n",
      "mean    460.500000   53.510870   NaN        NaN           NaN  132.132404   \n",
      "std     265.725422    9.424685   NaN        NaN           NaN   19.066070   \n",
      "min       1.000000   28.000000   NaN        NaN           NaN    0.000000   \n",
      "25%     230.750000   47.000000   NaN        NaN           NaN  120.000000   \n",
      "50%     460.500000   54.000000   NaN        NaN           NaN  130.000000   \n",
      "75%     690.250000   60.000000   NaN        NaN           NaN  140.000000   \n",
      "max     920.000000   77.000000   NaN        NaN           NaN  200.000000   \n",
      "\n",
      "              chol    fbs restecg      thalch  exang     oldpeak slope  \\\n",
      "count   890.000000    830     918  865.000000    865  858.000000   611   \n",
      "unique         NaN      2       3         NaN      2         NaN     3   \n",
      "top            NaN  False  normal         NaN  False         NaN  flat   \n",
      "freq           NaN    692     551         NaN    528         NaN   345   \n",
      "mean    199.130337    NaN     NaN  137.545665    NaN    0.878788   NaN   \n",
      "std     110.780810    NaN     NaN   25.926276    NaN    1.091226   NaN   \n",
      "min       0.000000    NaN     NaN   60.000000    NaN   -2.600000   NaN   \n",
      "25%     175.000000    NaN     NaN  120.000000    NaN    0.000000   NaN   \n",
      "50%     223.000000    NaN     NaN  140.000000    NaN    0.500000   NaN   \n",
      "75%     268.000000    NaN     NaN  157.000000    NaN    1.500000   NaN   \n",
      "max     603.000000    NaN     NaN  202.000000    NaN    6.200000   NaN   \n",
      "\n",
      "                ca    thal         num  \n",
      "count   309.000000     434  920.000000  \n",
      "unique         NaN       3         NaN  \n",
      "top            NaN  normal         NaN  \n",
      "freq           NaN     196         NaN  \n",
      "mean      0.676375     NaN    0.995652  \n",
      "std       0.935653     NaN    1.142693  \n",
      "min       0.000000     NaN    0.000000  \n",
      "25%       0.000000     NaN    0.000000  \n",
      "50%       0.000000     NaN    1.000000  \n",
      "75%       1.000000     NaN    2.000000  \n",
      "max       3.000000     NaN    4.000000  \n"
     ]
    }
   ],
   "source": [
    "print(data.head(), '\\n', data.describe(include='all'))"
   ]
  },
  {
   "cell_type": "markdown",
   "id": "bc114227",
   "metadata": {
    "papermill": {
     "duration": 0.005906,
     "end_time": "2023-08-14T12:20:40.744581",
     "exception": false,
     "start_time": "2023-08-14T12:20:40.738675",
     "status": "completed"
    },
    "tags": []
   },
   "source": [
    "We have some numerical and object values in DataFrame."
   ]
  },
  {
   "cell_type": "code",
   "execution_count": 4,
   "id": "777f583b",
   "metadata": {
    "execution": {
     "iopub.execute_input": "2023-08-14T12:20:40.758335Z",
     "iopub.status.busy": "2023-08-14T12:20:40.757998Z",
     "iopub.status.idle": "2023-08-14T12:20:40.776288Z",
     "shell.execute_reply": "2023-08-14T12:20:40.775420Z"
    },
    "papermill": {
     "duration": 0.02792,
     "end_time": "2023-08-14T12:20:40.778602",
     "exception": false,
     "start_time": "2023-08-14T12:20:40.750682",
     "status": "completed"
    },
    "tags": []
   },
   "outputs": [
    {
     "name": "stdout",
     "output_type": "stream",
     "text": [
      "sex : ['Male' 'Female']\n",
      "dataset : ['Cleveland' 'Hungary' 'Switzerland' 'VA Long Beach']\n",
      "cp : ['typical angina' 'asymptomatic' 'non-anginal' 'atypical angina']\n",
      "fbs : [True False nan]\n",
      "restecg : ['lv hypertrophy' 'normal' 'st-t abnormality' nan]\n",
      "exang : [False True nan]\n",
      "slope : ['downsloping' 'flat' 'upsloping' nan]\n",
      "thal : ['fixed defect' 'normal' 'reversable defect' nan]\n"
     ]
    },
    {
     "data": {
      "text/plain": [
       "[None, None, None, None, None, None, None, None]"
      ]
     },
     "execution_count": 4,
     "metadata": {},
     "output_type": "execute_result"
    }
   ],
   "source": [
    "object_columns = data.select_dtypes(include=['object']).columns\n",
    "[print(col_name, \":\", data[col].unique()) for col, col_name in zip(data[object_columns], object_columns)]"
   ]
  },
  {
   "cell_type": "code",
   "execution_count": 5,
   "id": "468e2f80",
   "metadata": {
    "execution": {
     "iopub.execute_input": "2023-08-14T12:20:40.794889Z",
     "iopub.status.busy": "2023-08-14T12:20:40.794157Z",
     "iopub.status.idle": "2023-08-14T12:20:40.802886Z",
     "shell.execute_reply": "2023-08-14T12:20:40.801683Z"
    },
    "papermill": {
     "duration": 0.018838,
     "end_time": "2023-08-14T12:20:40.805283",
     "exception": false,
     "start_time": "2023-08-14T12:20:40.786445",
     "status": "completed"
    },
    "tags": []
   },
   "outputs": [
    {
     "name": "stdout",
     "output_type": "stream",
     "text": [
      "id            0\n",
      "age           0\n",
      "sex           0\n",
      "dataset       0\n",
      "cp            0\n",
      "trestbps     59\n",
      "chol         30\n",
      "fbs          90\n",
      "restecg       2\n",
      "thalch       55\n",
      "exang        55\n",
      "oldpeak      62\n",
      "slope       309\n",
      "ca          611\n",
      "thal        486\n",
      "num           0\n",
      "dtype: int64\n"
     ]
    }
   ],
   "source": [
    "print(pd.isna(data).sum())"
   ]
  },
  {
   "cell_type": "markdown",
   "id": "1d44cc77",
   "metadata": {
    "papermill": {
     "duration": 0.005864,
     "end_time": "2023-08-14T12:20:40.817629",
     "exception": false,
     "start_time": "2023-08-14T12:20:40.811765",
     "status": "completed"
    },
    "tags": []
   },
   "source": [
    "Dropping columns ['slope', 'ca', 'thal'] because of too much NaN."
   ]
  },
  {
   "cell_type": "code",
   "execution_count": 6,
   "id": "a0f544b8",
   "metadata": {
    "execution": {
     "iopub.execute_input": "2023-08-14T12:20:40.832251Z",
     "iopub.status.busy": "2023-08-14T12:20:40.831679Z",
     "iopub.status.idle": "2023-08-14T12:20:40.859453Z",
     "shell.execute_reply": "2023-08-14T12:20:40.858292Z"
    },
    "papermill": {
     "duration": 0.038296,
     "end_time": "2023-08-14T12:20:40.861939",
     "exception": false,
     "start_time": "2023-08-14T12:20:40.823643",
     "status": "completed"
    },
    "tags": []
   },
   "outputs": [
    {
     "data": {
      "text/html": [
       "<div>\n",
       "<style scoped>\n",
       "    .dataframe tbody tr th:only-of-type {\n",
       "        vertical-align: middle;\n",
       "    }\n",
       "\n",
       "    .dataframe tbody tr th {\n",
       "        vertical-align: top;\n",
       "    }\n",
       "\n",
       "    .dataframe thead th {\n",
       "        text-align: right;\n",
       "    }\n",
       "</style>\n",
       "<table border=\"1\" class=\"dataframe\">\n",
       "  <thead>\n",
       "    <tr style=\"text-align: right;\">\n",
       "      <th></th>\n",
       "      <th>id</th>\n",
       "      <th>age</th>\n",
       "      <th>sex</th>\n",
       "      <th>dataset</th>\n",
       "      <th>cp</th>\n",
       "      <th>trestbps</th>\n",
       "      <th>chol</th>\n",
       "      <th>fbs</th>\n",
       "      <th>restecg</th>\n",
       "      <th>thalch</th>\n",
       "      <th>exang</th>\n",
       "      <th>oldpeak</th>\n",
       "      <th>num</th>\n",
       "    </tr>\n",
       "  </thead>\n",
       "  <tbody>\n",
       "    <tr>\n",
       "      <th>0</th>\n",
       "      <td>1</td>\n",
       "      <td>63</td>\n",
       "      <td>Male</td>\n",
       "      <td>Cleveland</td>\n",
       "      <td>typical angina</td>\n",
       "      <td>145.0</td>\n",
       "      <td>233.0</td>\n",
       "      <td>True</td>\n",
       "      <td>lv hypertrophy</td>\n",
       "      <td>150.0</td>\n",
       "      <td>False</td>\n",
       "      <td>2.3</td>\n",
       "      <td>0</td>\n",
       "    </tr>\n",
       "    <tr>\n",
       "      <th>1</th>\n",
       "      <td>2</td>\n",
       "      <td>67</td>\n",
       "      <td>Male</td>\n",
       "      <td>Cleveland</td>\n",
       "      <td>asymptomatic</td>\n",
       "      <td>160.0</td>\n",
       "      <td>286.0</td>\n",
       "      <td>False</td>\n",
       "      <td>lv hypertrophy</td>\n",
       "      <td>108.0</td>\n",
       "      <td>True</td>\n",
       "      <td>1.5</td>\n",
       "      <td>2</td>\n",
       "    </tr>\n",
       "    <tr>\n",
       "      <th>2</th>\n",
       "      <td>3</td>\n",
       "      <td>67</td>\n",
       "      <td>Male</td>\n",
       "      <td>Cleveland</td>\n",
       "      <td>asymptomatic</td>\n",
       "      <td>120.0</td>\n",
       "      <td>229.0</td>\n",
       "      <td>False</td>\n",
       "      <td>lv hypertrophy</td>\n",
       "      <td>129.0</td>\n",
       "      <td>True</td>\n",
       "      <td>2.6</td>\n",
       "      <td>1</td>\n",
       "    </tr>\n",
       "    <tr>\n",
       "      <th>3</th>\n",
       "      <td>4</td>\n",
       "      <td>37</td>\n",
       "      <td>Male</td>\n",
       "      <td>Cleveland</td>\n",
       "      <td>non-anginal</td>\n",
       "      <td>130.0</td>\n",
       "      <td>250.0</td>\n",
       "      <td>False</td>\n",
       "      <td>normal</td>\n",
       "      <td>187.0</td>\n",
       "      <td>False</td>\n",
       "      <td>3.5</td>\n",
       "      <td>0</td>\n",
       "    </tr>\n",
       "    <tr>\n",
       "      <th>4</th>\n",
       "      <td>5</td>\n",
       "      <td>41</td>\n",
       "      <td>Female</td>\n",
       "      <td>Cleveland</td>\n",
       "      <td>atypical angina</td>\n",
       "      <td>130.0</td>\n",
       "      <td>204.0</td>\n",
       "      <td>False</td>\n",
       "      <td>lv hypertrophy</td>\n",
       "      <td>172.0</td>\n",
       "      <td>False</td>\n",
       "      <td>1.4</td>\n",
       "      <td>0</td>\n",
       "    </tr>\n",
       "    <tr>\n",
       "      <th>...</th>\n",
       "      <td>...</td>\n",
       "      <td>...</td>\n",
       "      <td>...</td>\n",
       "      <td>...</td>\n",
       "      <td>...</td>\n",
       "      <td>...</td>\n",
       "      <td>...</td>\n",
       "      <td>...</td>\n",
       "      <td>...</td>\n",
       "      <td>...</td>\n",
       "      <td>...</td>\n",
       "      <td>...</td>\n",
       "      <td>...</td>\n",
       "    </tr>\n",
       "    <tr>\n",
       "      <th>913</th>\n",
       "      <td>914</td>\n",
       "      <td>62</td>\n",
       "      <td>Male</td>\n",
       "      <td>VA Long Beach</td>\n",
       "      <td>asymptomatic</td>\n",
       "      <td>158.0</td>\n",
       "      <td>170.0</td>\n",
       "      <td>False</td>\n",
       "      <td>st-t abnormality</td>\n",
       "      <td>138.0</td>\n",
       "      <td>True</td>\n",
       "      <td>0.0</td>\n",
       "      <td>1</td>\n",
       "    </tr>\n",
       "    <tr>\n",
       "      <th>914</th>\n",
       "      <td>915</td>\n",
       "      <td>46</td>\n",
       "      <td>Male</td>\n",
       "      <td>VA Long Beach</td>\n",
       "      <td>asymptomatic</td>\n",
       "      <td>134.0</td>\n",
       "      <td>310.0</td>\n",
       "      <td>False</td>\n",
       "      <td>normal</td>\n",
       "      <td>126.0</td>\n",
       "      <td>False</td>\n",
       "      <td>0.0</td>\n",
       "      <td>2</td>\n",
       "    </tr>\n",
       "    <tr>\n",
       "      <th>915</th>\n",
       "      <td>916</td>\n",
       "      <td>54</td>\n",
       "      <td>Female</td>\n",
       "      <td>VA Long Beach</td>\n",
       "      <td>asymptomatic</td>\n",
       "      <td>127.0</td>\n",
       "      <td>333.0</td>\n",
       "      <td>True</td>\n",
       "      <td>st-t abnormality</td>\n",
       "      <td>154.0</td>\n",
       "      <td>False</td>\n",
       "      <td>0.0</td>\n",
       "      <td>1</td>\n",
       "    </tr>\n",
       "    <tr>\n",
       "      <th>917</th>\n",
       "      <td>918</td>\n",
       "      <td>55</td>\n",
       "      <td>Male</td>\n",
       "      <td>VA Long Beach</td>\n",
       "      <td>asymptomatic</td>\n",
       "      <td>122.0</td>\n",
       "      <td>223.0</td>\n",
       "      <td>True</td>\n",
       "      <td>st-t abnormality</td>\n",
       "      <td>100.0</td>\n",
       "      <td>False</td>\n",
       "      <td>0.0</td>\n",
       "      <td>2</td>\n",
       "    </tr>\n",
       "    <tr>\n",
       "      <th>919</th>\n",
       "      <td>920</td>\n",
       "      <td>62</td>\n",
       "      <td>Male</td>\n",
       "      <td>VA Long Beach</td>\n",
       "      <td>atypical angina</td>\n",
       "      <td>120.0</td>\n",
       "      <td>254.0</td>\n",
       "      <td>False</td>\n",
       "      <td>lv hypertrophy</td>\n",
       "      <td>93.0</td>\n",
       "      <td>True</td>\n",
       "      <td>0.0</td>\n",
       "      <td>1</td>\n",
       "    </tr>\n",
       "  </tbody>\n",
       "</table>\n",
       "<p>740 rows × 13 columns</p>\n",
       "</div>"
      ],
      "text/plain": [
       "      id  age     sex        dataset               cp  trestbps   chol    fbs  \\\n",
       "0      1   63    Male      Cleveland   typical angina     145.0  233.0   True   \n",
       "1      2   67    Male      Cleveland     asymptomatic     160.0  286.0  False   \n",
       "2      3   67    Male      Cleveland     asymptomatic     120.0  229.0  False   \n",
       "3      4   37    Male      Cleveland      non-anginal     130.0  250.0  False   \n",
       "4      5   41  Female      Cleveland  atypical angina     130.0  204.0  False   \n",
       "..   ...  ...     ...            ...              ...       ...    ...    ...   \n",
       "913  914   62    Male  VA Long Beach     asymptomatic     158.0  170.0  False   \n",
       "914  915   46    Male  VA Long Beach     asymptomatic     134.0  310.0  False   \n",
       "915  916   54  Female  VA Long Beach     asymptomatic     127.0  333.0   True   \n",
       "917  918   55    Male  VA Long Beach     asymptomatic     122.0  223.0   True   \n",
       "919  920   62    Male  VA Long Beach  atypical angina     120.0  254.0  False   \n",
       "\n",
       "              restecg  thalch  exang  oldpeak  num  \n",
       "0      lv hypertrophy   150.0  False      2.3    0  \n",
       "1      lv hypertrophy   108.0   True      1.5    2  \n",
       "2      lv hypertrophy   129.0   True      2.6    1  \n",
       "3              normal   187.0  False      3.5    0  \n",
       "4      lv hypertrophy   172.0  False      1.4    0  \n",
       "..                ...     ...    ...      ...  ...  \n",
       "913  st-t abnormality   138.0   True      0.0    1  \n",
       "914            normal   126.0  False      0.0    2  \n",
       "915  st-t abnormality   154.0  False      0.0    1  \n",
       "917  st-t abnormality   100.0  False      0.0    2  \n",
       "919    lv hypertrophy    93.0   True      0.0    1  \n",
       "\n",
       "[740 rows x 13 columns]"
      ]
     },
     "execution_count": 6,
     "metadata": {},
     "output_type": "execute_result"
    }
   ],
   "source": [
    "data = data.drop(['slope', 'ca', 'thal'], axis=1)\n",
    "data = data.dropna(axis=0)\n",
    "data"
   ]
  },
  {
   "cell_type": "markdown",
   "id": "7a66b357",
   "metadata": {
    "papermill": {
     "duration": 0.006258,
     "end_time": "2023-08-14T12:20:40.874892",
     "exception": false,
     "start_time": "2023-08-14T12:20:40.868634",
     "status": "completed"
    },
    "tags": []
   },
   "source": [
    "Label encoding for categorical data."
   ]
  },
  {
   "cell_type": "code",
   "execution_count": 7,
   "id": "273b7127",
   "metadata": {
    "execution": {
     "iopub.execute_input": "2023-08-14T12:20:40.889325Z",
     "iopub.status.busy": "2023-08-14T12:20:40.888955Z",
     "iopub.status.idle": "2023-08-14T12:20:42.048172Z",
     "shell.execute_reply": "2023-08-14T12:20:42.046944Z"
    },
    "papermill": {
     "duration": 1.16909,
     "end_time": "2023-08-14T12:20:42.050390",
     "exception": false,
     "start_time": "2023-08-14T12:20:40.881300",
     "status": "completed"
    },
    "tags": []
   },
   "outputs": [
    {
     "name": "stderr",
     "output_type": "stream",
     "text": [
      "/opt/conda/lib/python3.10/site-packages/scipy/__init__.py:146: UserWarning: A NumPy version >=1.16.5 and <1.23.0 is required for this version of SciPy (detected version 1.23.5\n",
      "  warnings.warn(f\"A NumPy version >={np_minversion} and <{np_maxversion}\"\n"
     ]
    },
    {
     "data": {
      "text/html": [
       "<div>\n",
       "<style scoped>\n",
       "    .dataframe tbody tr th:only-of-type {\n",
       "        vertical-align: middle;\n",
       "    }\n",
       "\n",
       "    .dataframe tbody tr th {\n",
       "        vertical-align: top;\n",
       "    }\n",
       "\n",
       "    .dataframe thead th {\n",
       "        text-align: right;\n",
       "    }\n",
       "</style>\n",
       "<table border=\"1\" class=\"dataframe\">\n",
       "  <thead>\n",
       "    <tr style=\"text-align: right;\">\n",
       "      <th></th>\n",
       "      <th>id</th>\n",
       "      <th>age</th>\n",
       "      <th>sex</th>\n",
       "      <th>dataset</th>\n",
       "      <th>cp</th>\n",
       "      <th>trestbps</th>\n",
       "      <th>chol</th>\n",
       "      <th>fbs</th>\n",
       "      <th>restecg</th>\n",
       "      <th>thalch</th>\n",
       "      <th>exang</th>\n",
       "      <th>oldpeak</th>\n",
       "      <th>num</th>\n",
       "    </tr>\n",
       "  </thead>\n",
       "  <tbody>\n",
       "    <tr>\n",
       "      <th>0</th>\n",
       "      <td>1</td>\n",
       "      <td>63</td>\n",
       "      <td>1</td>\n",
       "      <td>0</td>\n",
       "      <td>3</td>\n",
       "      <td>145.0</td>\n",
       "      <td>233.0</td>\n",
       "      <td>1</td>\n",
       "      <td>0</td>\n",
       "      <td>150.0</td>\n",
       "      <td>0</td>\n",
       "      <td>2.3</td>\n",
       "      <td>0</td>\n",
       "    </tr>\n",
       "    <tr>\n",
       "      <th>1</th>\n",
       "      <td>2</td>\n",
       "      <td>67</td>\n",
       "      <td>1</td>\n",
       "      <td>0</td>\n",
       "      <td>0</td>\n",
       "      <td>160.0</td>\n",
       "      <td>286.0</td>\n",
       "      <td>0</td>\n",
       "      <td>0</td>\n",
       "      <td>108.0</td>\n",
       "      <td>1</td>\n",
       "      <td>1.5</td>\n",
       "      <td>2</td>\n",
       "    </tr>\n",
       "    <tr>\n",
       "      <th>2</th>\n",
       "      <td>3</td>\n",
       "      <td>67</td>\n",
       "      <td>1</td>\n",
       "      <td>0</td>\n",
       "      <td>0</td>\n",
       "      <td>120.0</td>\n",
       "      <td>229.0</td>\n",
       "      <td>0</td>\n",
       "      <td>0</td>\n",
       "      <td>129.0</td>\n",
       "      <td>1</td>\n",
       "      <td>2.6</td>\n",
       "      <td>1</td>\n",
       "    </tr>\n",
       "    <tr>\n",
       "      <th>3</th>\n",
       "      <td>4</td>\n",
       "      <td>37</td>\n",
       "      <td>1</td>\n",
       "      <td>0</td>\n",
       "      <td>2</td>\n",
       "      <td>130.0</td>\n",
       "      <td>250.0</td>\n",
       "      <td>0</td>\n",
       "      <td>1</td>\n",
       "      <td>187.0</td>\n",
       "      <td>0</td>\n",
       "      <td>3.5</td>\n",
       "      <td>0</td>\n",
       "    </tr>\n",
       "    <tr>\n",
       "      <th>4</th>\n",
       "      <td>5</td>\n",
       "      <td>41</td>\n",
       "      <td>0</td>\n",
       "      <td>0</td>\n",
       "      <td>1</td>\n",
       "      <td>130.0</td>\n",
       "      <td>204.0</td>\n",
       "      <td>0</td>\n",
       "      <td>0</td>\n",
       "      <td>172.0</td>\n",
       "      <td>0</td>\n",
       "      <td>1.4</td>\n",
       "      <td>0</td>\n",
       "    </tr>\n",
       "    <tr>\n",
       "      <th>...</th>\n",
       "      <td>...</td>\n",
       "      <td>...</td>\n",
       "      <td>...</td>\n",
       "      <td>...</td>\n",
       "      <td>...</td>\n",
       "      <td>...</td>\n",
       "      <td>...</td>\n",
       "      <td>...</td>\n",
       "      <td>...</td>\n",
       "      <td>...</td>\n",
       "      <td>...</td>\n",
       "      <td>...</td>\n",
       "      <td>...</td>\n",
       "    </tr>\n",
       "    <tr>\n",
       "      <th>913</th>\n",
       "      <td>914</td>\n",
       "      <td>62</td>\n",
       "      <td>1</td>\n",
       "      <td>3</td>\n",
       "      <td>0</td>\n",
       "      <td>158.0</td>\n",
       "      <td>170.0</td>\n",
       "      <td>0</td>\n",
       "      <td>2</td>\n",
       "      <td>138.0</td>\n",
       "      <td>1</td>\n",
       "      <td>0.0</td>\n",
       "      <td>1</td>\n",
       "    </tr>\n",
       "    <tr>\n",
       "      <th>914</th>\n",
       "      <td>915</td>\n",
       "      <td>46</td>\n",
       "      <td>1</td>\n",
       "      <td>3</td>\n",
       "      <td>0</td>\n",
       "      <td>134.0</td>\n",
       "      <td>310.0</td>\n",
       "      <td>0</td>\n",
       "      <td>1</td>\n",
       "      <td>126.0</td>\n",
       "      <td>0</td>\n",
       "      <td>0.0</td>\n",
       "      <td>2</td>\n",
       "    </tr>\n",
       "    <tr>\n",
       "      <th>915</th>\n",
       "      <td>916</td>\n",
       "      <td>54</td>\n",
       "      <td>0</td>\n",
       "      <td>3</td>\n",
       "      <td>0</td>\n",
       "      <td>127.0</td>\n",
       "      <td>333.0</td>\n",
       "      <td>1</td>\n",
       "      <td>2</td>\n",
       "      <td>154.0</td>\n",
       "      <td>0</td>\n",
       "      <td>0.0</td>\n",
       "      <td>1</td>\n",
       "    </tr>\n",
       "    <tr>\n",
       "      <th>917</th>\n",
       "      <td>918</td>\n",
       "      <td>55</td>\n",
       "      <td>1</td>\n",
       "      <td>3</td>\n",
       "      <td>0</td>\n",
       "      <td>122.0</td>\n",
       "      <td>223.0</td>\n",
       "      <td>1</td>\n",
       "      <td>2</td>\n",
       "      <td>100.0</td>\n",
       "      <td>0</td>\n",
       "      <td>0.0</td>\n",
       "      <td>2</td>\n",
       "    </tr>\n",
       "    <tr>\n",
       "      <th>919</th>\n",
       "      <td>920</td>\n",
       "      <td>62</td>\n",
       "      <td>1</td>\n",
       "      <td>3</td>\n",
       "      <td>1</td>\n",
       "      <td>120.0</td>\n",
       "      <td>254.0</td>\n",
       "      <td>0</td>\n",
       "      <td>0</td>\n",
       "      <td>93.0</td>\n",
       "      <td>1</td>\n",
       "      <td>0.0</td>\n",
       "      <td>1</td>\n",
       "    </tr>\n",
       "  </tbody>\n",
       "</table>\n",
       "<p>740 rows × 13 columns</p>\n",
       "</div>"
      ],
      "text/plain": [
       "      id  age  sex  dataset  cp  trestbps   chol  fbs  restecg  thalch  exang  \\\n",
       "0      1   63    1        0   3     145.0  233.0    1        0   150.0      0   \n",
       "1      2   67    1        0   0     160.0  286.0    0        0   108.0      1   \n",
       "2      3   67    1        0   0     120.0  229.0    0        0   129.0      1   \n",
       "3      4   37    1        0   2     130.0  250.0    0        1   187.0      0   \n",
       "4      5   41    0        0   1     130.0  204.0    0        0   172.0      0   \n",
       "..   ...  ...  ...      ...  ..       ...    ...  ...      ...     ...    ...   \n",
       "913  914   62    1        3   0     158.0  170.0    0        2   138.0      1   \n",
       "914  915   46    1        3   0     134.0  310.0    0        1   126.0      0   \n",
       "915  916   54    0        3   0     127.0  333.0    1        2   154.0      0   \n",
       "917  918   55    1        3   0     122.0  223.0    1        2   100.0      0   \n",
       "919  920   62    1        3   1     120.0  254.0    0        0    93.0      1   \n",
       "\n",
       "     oldpeak  num  \n",
       "0        2.3    0  \n",
       "1        1.5    2  \n",
       "2        2.6    1  \n",
       "3        3.5    0  \n",
       "4        1.4    0  \n",
       "..       ...  ...  \n",
       "913      0.0    1  \n",
       "914      0.0    2  \n",
       "915      0.0    1  \n",
       "917      0.0    2  \n",
       "919      0.0    1  \n",
       "\n",
       "[740 rows x 13 columns]"
      ]
     },
     "execution_count": 7,
     "metadata": {},
     "output_type": "execute_result"
    }
   ],
   "source": [
    "from sklearn import preprocessing\n",
    "label_encoder = preprocessing.LabelEncoder()\n",
    "# df['species']= label_encoder.fit_transform(df['species'])\n",
    "categorical_columns = data.select_dtypes(include=['object']).columns\n",
    "for col in categorical_columns:\n",
    "    data[col] = label_encoder.fit_transform(data[col])\n",
    "data\n"
   ]
  },
  {
   "cell_type": "code",
   "execution_count": 8,
   "id": "754cc4e4",
   "metadata": {
    "execution": {
     "iopub.execute_input": "2023-08-14T12:20:42.066228Z",
     "iopub.status.busy": "2023-08-14T12:20:42.065847Z",
     "iopub.status.idle": "2023-08-14T12:20:42.072416Z",
     "shell.execute_reply": "2023-08-14T12:20:42.071373Z"
    },
    "papermill": {
     "duration": 0.016757,
     "end_time": "2023-08-14T12:20:42.074330",
     "exception": false,
     "start_time": "2023-08-14T12:20:42.057573",
     "status": "completed"
    },
    "tags": []
   },
   "outputs": [],
   "source": [
    "X = pd.DataFrame(data.iloc[:, 1:-1])\n",
    "Y = pd.DataFrame(data.iloc[:, -1])"
   ]
  },
  {
   "cell_type": "markdown",
   "id": "21074ba8",
   "metadata": {
    "papermill": {
     "duration": 0.006733,
     "end_time": "2023-08-14T12:20:42.088280",
     "exception": false,
     "start_time": "2023-08-14T12:20:42.081547",
     "status": "completed"
    },
    "tags": []
   },
   "source": [
    "Data normalization. Normalization improved accuracy from 67% to 79%"
   ]
  },
  {
   "cell_type": "code",
   "execution_count": 9,
   "id": "34fc01d3",
   "metadata": {
    "execution": {
     "iopub.execute_input": "2023-08-14T12:20:42.104014Z",
     "iopub.status.busy": "2023-08-14T12:20:42.103625Z",
     "iopub.status.idle": "2023-08-14T12:20:42.113379Z",
     "shell.execute_reply": "2023-08-14T12:20:42.112403Z"
    },
    "papermill": {
     "duration": 0.020299,
     "end_time": "2023-08-14T12:20:42.115538",
     "exception": false,
     "start_time": "2023-08-14T12:20:42.095239",
     "status": "completed"
    },
    "tags": []
   },
   "outputs": [],
   "source": [
    "X = (X - X.min()) / (X.max() - X.min()).values"
   ]
  },
  {
   "cell_type": "code",
   "execution_count": 10,
   "id": "1e1b3842",
   "metadata": {
    "execution": {
     "iopub.execute_input": "2023-08-14T12:20:42.131671Z",
     "iopub.status.busy": "2023-08-14T12:20:42.130687Z",
     "iopub.status.idle": "2023-08-14T12:20:42.136247Z",
     "shell.execute_reply": "2023-08-14T12:20:42.135506Z"
    },
    "papermill": {
     "duration": 0.01603,
     "end_time": "2023-08-14T12:20:42.138456",
     "exception": false,
     "start_time": "2023-08-14T12:20:42.122426",
     "status": "completed"
    },
    "tags": []
   },
   "outputs": [],
   "source": [
    "disease_threshold = 1\n",
    "Y[Y >= disease_threshold] = 1"
   ]
  },
  {
   "cell_type": "code",
   "execution_count": 11,
   "id": "ae48ca76",
   "metadata": {
    "execution": {
     "iopub.execute_input": "2023-08-14T12:20:42.153737Z",
     "iopub.status.busy": "2023-08-14T12:20:42.153329Z",
     "iopub.status.idle": "2023-08-14T12:20:42.283248Z",
     "shell.execute_reply": "2023-08-14T12:20:42.282076Z"
    },
    "papermill": {
     "duration": 0.140021,
     "end_time": "2023-08-14T12:20:42.285436",
     "exception": false,
     "start_time": "2023-08-14T12:20:42.145415",
     "status": "completed"
    },
    "tags": []
   },
   "outputs": [],
   "source": [
    "from sklearn.model_selection import train_test_split\n",
    "\n",
    "X_train, X_test, Y_train, Y_test = train_test_split(X, Y, test_size=0.2, random_state=42)"
   ]
  },
  {
   "cell_type": "markdown",
   "id": "ca68c54d",
   "metadata": {
    "papermill": {
     "duration": 0.006805,
     "end_time": "2023-08-14T12:20:42.299246",
     "exception": false,
     "start_time": "2023-08-14T12:20:42.292441",
     "status": "completed"
    },
    "tags": []
   },
   "source": [
    "Learning NB model"
   ]
  },
  {
   "cell_type": "code",
   "execution_count": 12,
   "id": "590e964f",
   "metadata": {
    "execution": {
     "iopub.execute_input": "2023-08-14T12:20:42.314931Z",
     "iopub.status.busy": "2023-08-14T12:20:42.314569Z",
     "iopub.status.idle": "2023-08-14T12:20:42.328642Z",
     "shell.execute_reply": "2023-08-14T12:20:42.327231Z"
    },
    "papermill": {
     "duration": 0.02496,
     "end_time": "2023-08-14T12:20:42.331134",
     "exception": false,
     "start_time": "2023-08-14T12:20:42.306174",
     "status": "completed"
    },
    "tags": []
   },
   "outputs": [],
   "source": [
    "from sklearn.naive_bayes import MultinomialNB\n",
    "\n",
    "clf = MultinomialNB(alpha=1.0, fit_prior=True)"
   ]
  },
  {
   "cell_type": "code",
   "execution_count": 13,
   "id": "6ead30a5",
   "metadata": {
    "execution": {
     "iopub.execute_input": "2023-08-14T12:20:42.346895Z",
     "iopub.status.busy": "2023-08-14T12:20:42.346489Z",
     "iopub.status.idle": "2023-08-14T12:20:42.370334Z",
     "shell.execute_reply": "2023-08-14T12:20:42.368942Z"
    },
    "papermill": {
     "duration": 0.034161,
     "end_time": "2023-08-14T12:20:42.372333",
     "exception": false,
     "start_time": "2023-08-14T12:20:42.338172",
     "status": "completed"
    },
    "tags": []
   },
   "outputs": [
    {
     "data": {
      "text/html": [
       "<style>#sk-container-id-1 {color: black;background-color: white;}#sk-container-id-1 pre{padding: 0;}#sk-container-id-1 div.sk-toggleable {background-color: white;}#sk-container-id-1 label.sk-toggleable__label {cursor: pointer;display: block;width: 100%;margin-bottom: 0;padding: 0.3em;box-sizing: border-box;text-align: center;}#sk-container-id-1 label.sk-toggleable__label-arrow:before {content: \"▸\";float: left;margin-right: 0.25em;color: #696969;}#sk-container-id-1 label.sk-toggleable__label-arrow:hover:before {color: black;}#sk-container-id-1 div.sk-estimator:hover label.sk-toggleable__label-arrow:before {color: black;}#sk-container-id-1 div.sk-toggleable__content {max-height: 0;max-width: 0;overflow: hidden;text-align: left;background-color: #f0f8ff;}#sk-container-id-1 div.sk-toggleable__content pre {margin: 0.2em;color: black;border-radius: 0.25em;background-color: #f0f8ff;}#sk-container-id-1 input.sk-toggleable__control:checked~div.sk-toggleable__content {max-height: 200px;max-width: 100%;overflow: auto;}#sk-container-id-1 input.sk-toggleable__control:checked~label.sk-toggleable__label-arrow:before {content: \"▾\";}#sk-container-id-1 div.sk-estimator input.sk-toggleable__control:checked~label.sk-toggleable__label {background-color: #d4ebff;}#sk-container-id-1 div.sk-label input.sk-toggleable__control:checked~label.sk-toggleable__label {background-color: #d4ebff;}#sk-container-id-1 input.sk-hidden--visually {border: 0;clip: rect(1px 1px 1px 1px);clip: rect(1px, 1px, 1px, 1px);height: 1px;margin: -1px;overflow: hidden;padding: 0;position: absolute;width: 1px;}#sk-container-id-1 div.sk-estimator {font-family: monospace;background-color: #f0f8ff;border: 1px dotted black;border-radius: 0.25em;box-sizing: border-box;margin-bottom: 0.5em;}#sk-container-id-1 div.sk-estimator:hover {background-color: #d4ebff;}#sk-container-id-1 div.sk-parallel-item::after {content: \"\";width: 100%;border-bottom: 1px solid gray;flex-grow: 1;}#sk-container-id-1 div.sk-label:hover label.sk-toggleable__label {background-color: #d4ebff;}#sk-container-id-1 div.sk-serial::before {content: \"\";position: absolute;border-left: 1px solid gray;box-sizing: border-box;top: 0;bottom: 0;left: 50%;z-index: 0;}#sk-container-id-1 div.sk-serial {display: flex;flex-direction: column;align-items: center;background-color: white;padding-right: 0.2em;padding-left: 0.2em;position: relative;}#sk-container-id-1 div.sk-item {position: relative;z-index: 1;}#sk-container-id-1 div.sk-parallel {display: flex;align-items: stretch;justify-content: center;background-color: white;position: relative;}#sk-container-id-1 div.sk-item::before, #sk-container-id-1 div.sk-parallel-item::before {content: \"\";position: absolute;border-left: 1px solid gray;box-sizing: border-box;top: 0;bottom: 0;left: 50%;z-index: -1;}#sk-container-id-1 div.sk-parallel-item {display: flex;flex-direction: column;z-index: 1;position: relative;background-color: white;}#sk-container-id-1 div.sk-parallel-item:first-child::after {align-self: flex-end;width: 50%;}#sk-container-id-1 div.sk-parallel-item:last-child::after {align-self: flex-start;width: 50%;}#sk-container-id-1 div.sk-parallel-item:only-child::after {width: 0;}#sk-container-id-1 div.sk-dashed-wrapped {border: 1px dashed gray;margin: 0 0.4em 0.5em 0.4em;box-sizing: border-box;padding-bottom: 0.4em;background-color: white;}#sk-container-id-1 div.sk-label label {font-family: monospace;font-weight: bold;display: inline-block;line-height: 1.2em;}#sk-container-id-1 div.sk-label-container {text-align: center;}#sk-container-id-1 div.sk-container {/* jupyter's `normalize.less` sets `[hidden] { display: none; }` but bootstrap.min.css set `[hidden] { display: none !important; }` so we also need the `!important` here to be able to override the default hidden behavior on the sphinx rendered scikit-learn.org. See: https://github.com/scikit-learn/scikit-learn/issues/21755 */display: inline-block !important;position: relative;}#sk-container-id-1 div.sk-text-repr-fallback {display: none;}</style><div id=\"sk-container-id-1\" class=\"sk-top-container\"><div class=\"sk-text-repr-fallback\"><pre>MultinomialNB()</pre><b>In a Jupyter environment, please rerun this cell to show the HTML representation or trust the notebook. <br />On GitHub, the HTML representation is unable to render, please try loading this page with nbviewer.org.</b></div><div class=\"sk-container\" hidden><div class=\"sk-item\"><div class=\"sk-estimator sk-toggleable\"><input class=\"sk-toggleable__control sk-hidden--visually\" id=\"sk-estimator-id-1\" type=\"checkbox\" checked><label for=\"sk-estimator-id-1\" class=\"sk-toggleable__label sk-toggleable__label-arrow\">MultinomialNB</label><div class=\"sk-toggleable__content\"><pre>MultinomialNB()</pre></div></div></div></div></div>"
      ],
      "text/plain": [
       "MultinomialNB()"
      ]
     },
     "execution_count": 13,
     "metadata": {},
     "output_type": "execute_result"
    }
   ],
   "source": [
    "clf.fit(X_train, np.ravel(Y_train))"
   ]
  },
  {
   "cell_type": "code",
   "execution_count": 14,
   "id": "941c0cd2",
   "metadata": {
    "execution": {
     "iopub.execute_input": "2023-08-14T12:20:42.388324Z",
     "iopub.status.busy": "2023-08-14T12:20:42.387631Z",
     "iopub.status.idle": "2023-08-14T12:20:42.395722Z",
     "shell.execute_reply": "2023-08-14T12:20:42.394301Z"
    },
    "papermill": {
     "duration": 0.018193,
     "end_time": "2023-08-14T12:20:42.397602",
     "exception": false,
     "start_time": "2023-08-14T12:20:42.379409",
     "status": "completed"
    },
    "tags": []
   },
   "outputs": [
    {
     "name": "stdout",
     "output_type": "stream",
     "text": [
      "[1 1 0 0 0 1 1 0 1 0 1 1 1 0 1 1 0 1 0 1 1 0 0 1 0 1 0 0 0 0 0 0 1 0 0 0 1\n",
      " 1 1 0 1 0 1 0 1 1 0 0 0 1 1 1 1 0 1 1 0 0 1 0 0 1 1 1 1 0 1 1 0 0 0 0 1 1\n",
      " 0 1 0 1 1 0 1 1 0 0 0 1 0 0 1 0 0 0 0 0 0 0 1 0 1 0 1 1 0 1 1 0 0 1 1 0 0\n",
      " 0 0 1 1 1 1 0 1 1 0 0 1 0 0 1 1 1 1 0 0 1 0 1 0 0 0 0 0 0 0 0 0 0 0 1 0 0]\n"
     ]
    }
   ],
   "source": [
    "prediction = clf.predict(X_test)\n",
    "print(prediction)"
   ]
  },
  {
   "cell_type": "code",
   "execution_count": 15,
   "id": "ba3b81ac",
   "metadata": {
    "execution": {
     "iopub.execute_input": "2023-08-14T12:20:42.414711Z",
     "iopub.status.busy": "2023-08-14T12:20:42.414341Z",
     "iopub.status.idle": "2023-08-14T12:20:42.424224Z",
     "shell.execute_reply": "2023-08-14T12:20:42.423298Z"
    },
    "papermill": {
     "duration": 0.020898,
     "end_time": "2023-08-14T12:20:42.426033",
     "exception": false,
     "start_time": "2023-08-14T12:20:42.405135",
     "status": "completed"
    },
    "tags": []
   },
   "outputs": [
    {
     "name": "stdout",
     "output_type": "stream",
     "text": [
      "0.7972972972972973\n"
     ]
    }
   ],
   "source": [
    "accuracy = clf.score(X_test, Y_test)\n",
    "print(accuracy)"
   ]
  },
  {
   "cell_type": "markdown",
   "id": "1a4c1e36",
   "metadata": {
    "papermill": {
     "duration": 0.007135,
     "end_time": "2023-08-14T12:20:42.440390",
     "exception": false,
     "start_time": "2023-08-14T12:20:42.433255",
     "status": "completed"
    },
    "tags": []
   },
   "source": [
    "Tuning with cross validation and ROC (Receiver Operating Charachteristic)."
   ]
  },
  {
   "cell_type": "code",
   "execution_count": 16,
   "id": "b4f04ee4",
   "metadata": {
    "execution": {
     "iopub.execute_input": "2023-08-14T12:20:42.456756Z",
     "iopub.status.busy": "2023-08-14T12:20:42.456216Z",
     "iopub.status.idle": "2023-08-14T12:20:42.461055Z",
     "shell.execute_reply": "2023-08-14T12:20:42.459946Z"
    },
    "papermill": {
     "duration": 0.015425,
     "end_time": "2023-08-14T12:20:42.463103",
     "exception": false,
     "start_time": "2023-08-14T12:20:42.447678",
     "status": "completed"
    },
    "tags": []
   },
   "outputs": [],
   "source": [
    "from sklearn.model_selection import StratifiedKFold\n",
    "k=10\n",
    "k_fold = StratifiedKFold(n_splits=k)"
   ]
  },
  {
   "cell_type": "code",
   "execution_count": 17,
   "id": "a9d46a92",
   "metadata": {
    "execution": {
     "iopub.execute_input": "2023-08-14T12:20:42.479550Z",
     "iopub.status.busy": "2023-08-14T12:20:42.478896Z",
     "iopub.status.idle": "2023-08-14T12:20:42.482805Z",
     "shell.execute_reply": "2023-08-14T12:20:42.482151Z"
    },
    "papermill": {
     "duration": 0.014235,
     "end_time": "2023-08-14T12:20:42.484483",
     "exception": false,
     "start_time": "2023-08-14T12:20:42.470248",
     "status": "completed"
    },
    "tags": []
   },
   "outputs": [],
   "source": [
    "smoothing_factor = list(range(1, 7))\n",
    "fit_prior = [True, False]\n",
    "auc_record = {}"
   ]
  },
  {
   "cell_type": "code",
   "execution_count": 18,
   "id": "16dd81b7",
   "metadata": {
    "execution": {
     "iopub.execute_input": "2023-08-14T12:20:42.500619Z",
     "iopub.status.busy": "2023-08-14T12:20:42.500002Z",
     "iopub.status.idle": "2023-08-14T12:20:43.279069Z",
     "shell.execute_reply": "2023-08-14T12:20:43.277384Z"
    },
    "papermill": {
     "duration": 0.78957,
     "end_time": "2023-08-14T12:20:43.281253",
     "exception": false,
     "start_time": "2023-08-14T12:20:42.491683",
     "status": "completed"
    },
    "tags": []
   },
   "outputs": [
    {
     "name": "stdout",
     "output_type": "stream",
     "text": [
      "{1: {True: 8.449296317717371, False: 8.449296317717371}, 2: {True: 8.449293104556263, False: 8.449293104556263}, 3: {True: 8.447829509671616, False: 8.447829509671616}, 4: {True: 8.446367521367522, False: 8.446367521367522}, 5: {True: 8.44344193817878, False: 8.44344193817878}, 6: {True: 8.445634920634921, False: 8.445634920634921}}\n"
     ]
    }
   ],
   "source": [
    "from sklearn.metrics import roc_auc_score\n",
    "\n",
    "for train_indices, test_indices in k_fold.split(X, Y):\n",
    "    X_train, X_test = X.iloc[train_indices, :], X.iloc[test_indices, :]\n",
    "    Y_train, Y_test = np.ravel(Y.iloc[train_indices, :]), Y.iloc[test_indices, :]\n",
    "    for alpha in smoothing_factor:\n",
    "        if alpha not in auc_record:\n",
    "            auc_record[alpha] = {}\n",
    "        for prior in fit_prior:\n",
    "            clf = MultinomialNB(alpha=alpha, fit_prior=prior)\n",
    "            clf.fit(X_train, Y_train)\n",
    "            prediction_prob = clf.predict_proba(X_test)\n",
    "            positive_prob = prediction_prob[:, 1]\n",
    "            auc = roc_auc_score(Y_test, positive_prob)\n",
    "            auc_record[alpha][prior] = auc + auc_record[alpha].get(prior, .0)\n",
    "\n",
    "print(auc_record)"
   ]
  },
  {
   "cell_type": "code",
   "execution_count": 19,
   "id": "14e50526",
   "metadata": {
    "execution": {
     "iopub.execute_input": "2023-08-14T12:20:43.297075Z",
     "iopub.status.busy": "2023-08-14T12:20:43.296713Z",
     "iopub.status.idle": "2023-08-14T12:20:43.302655Z",
     "shell.execute_reply": "2023-08-14T12:20:43.301541Z"
    },
    "papermill": {
     "duration": 0.016642,
     "end_time": "2023-08-14T12:20:43.305059",
     "exception": false,
     "start_time": "2023-08-14T12:20:43.288417",
     "status": "completed"
    },
    "tags": []
   },
   "outputs": [
    {
     "name": "stdout",
     "output_type": "stream",
     "text": [
      "Smoothing  A priori  Area\n",
      "    1      True      0.84493\n",
      "    1      False     0.84493\n",
      "    2      True      0.84493\n",
      "    2      False     0.84493\n",
      "    3      True      0.84478\n",
      "    3      False     0.84478\n",
      "    4      True      0.84464\n",
      "    4      False     0.84464\n",
      "    5      True      0.84434\n",
      "    5      False     0.84434\n",
      "    6      True      0.84456\n",
      "    6      False     0.84456\n"
     ]
    }
   ],
   "source": [
    "print('Smoothing  A priori  Area')\n",
    "for smoothing, smoothing_record in auc_record.items():\n",
    "    for fit_prior, auc in smoothing_record.items():\n",
    "        print(f'    {smoothing}      {fit_prior!s:<6}    {auc/k:.5f}')"
   ]
  },
  {
   "cell_type": "markdown",
   "id": "f54e6dfa",
   "metadata": {
    "papermill": {
     "duration": 0.006763,
     "end_time": "2023-08-14T12:20:43.319314",
     "exception": false,
     "start_time": "2023-08-14T12:20:43.312551",
     "status": "completed"
    },
    "tags": []
   },
   "source": [
    "We have 4 models with the same area under ROC curve."
   ]
  },
  {
   "cell_type": "code",
   "execution_count": 20,
   "id": "d0856655",
   "metadata": {
    "execution": {
     "iopub.execute_input": "2023-08-14T12:20:43.335479Z",
     "iopub.status.busy": "2023-08-14T12:20:43.335119Z",
     "iopub.status.idle": "2023-08-14T12:20:43.356145Z",
     "shell.execute_reply": "2023-08-14T12:20:43.354909Z"
    },
    "papermill": {
     "duration": 0.032386,
     "end_time": "2023-08-14T12:20:43.358812",
     "exception": false,
     "start_time": "2023-08-14T12:20:43.326426",
     "status": "completed"
    },
    "tags": []
   },
   "outputs": [
    {
     "name": "stdout",
     "output_type": "stream",
     "text": [
      "Area under ROC in best model is:  0.8409132420091324\n",
      "0.7972972972972973\n"
     ]
    }
   ],
   "source": [
    "X_train, X_test, Y_train, Y_test = train_test_split(X, Y, test_size=0.2, random_state=42)\n",
    "clf = MultinomialNB(alpha=1.0, fit_prior=True)\n",
    "clf.fit(X_train, np.ravel(Y_train))\n",
    "pos_prob = clf.predict_proba(X_test)[:,1]\n",
    "print(\"Area under ROC in best model is: \", roc_auc_score(Y_test, pos_prob))\n",
    "accuracy = clf.score(X_test, Y_test)\n",
    "print(accuracy)"
   ]
  }
 ],
 "metadata": {
  "kernelspec": {
   "display_name": "Python 3",
   "language": "python",
   "name": "python3"
  },
  "language_info": {
   "codemirror_mode": {
    "name": "ipython",
    "version": 3
   },
   "file_extension": ".py",
   "mimetype": "text/x-python",
   "name": "python",
   "nbconvert_exporter": "python",
   "pygments_lexer": "ipython3",
   "version": "3.10.12"
  },
  "papermill": {
   "default_parameters": {},
   "duration": 12.06386,
   "end_time": "2023-08-14T12:20:44.288708",
   "environment_variables": {},
   "exception": null,
   "input_path": "__notebook__.ipynb",
   "output_path": "__notebook__.ipynb",
   "parameters": {},
   "start_time": "2023-08-14T12:20:32.224848",
   "version": "2.4.0"
  }
 },
 "nbformat": 4,
 "nbformat_minor": 5
}
